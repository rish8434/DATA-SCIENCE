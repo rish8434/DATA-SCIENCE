{
 "cells": [
  {
   "cell_type": "code",
   "execution_count": 1,
   "id": "839cb136",
   "metadata": {
    "execution": {
     "iopub.execute_input": "2023-08-07T12:25:12.735825Z",
     "iopub.status.busy": "2023-08-07T12:25:12.734978Z",
     "iopub.status.idle": "2023-08-07T12:25:12.744819Z",
     "shell.execute_reply": "2023-08-07T12:25:12.743816Z"
    },
    "papermill": {
     "duration": 0.022618,
     "end_time": "2023-08-07T12:25:12.747065",
     "exception": false,
     "start_time": "2023-08-07T12:25:12.724447",
     "status": "completed"
    },
    "tags": []
   },
   "outputs": [],
   "source": [
    "import pandas as pd\n",
    "import numpy as np"
   ]
  },
  {
   "cell_type": "code",
   "execution_count": 2,
   "id": "db702e76",
   "metadata": {
    "execution": {
     "iopub.execute_input": "2023-08-07T12:25:12.765701Z",
     "iopub.status.busy": "2023-08-07T12:25:12.764945Z",
     "iopub.status.idle": "2023-08-07T12:25:12.769322Z",
     "shell.execute_reply": "2023-08-07T12:25:12.768473Z"
    },
    "papermill": {
     "duration": 0.016146,
     "end_time": "2023-08-07T12:25:12.771550",
     "exception": false,
     "start_time": "2023-08-07T12:25:12.755404",
     "status": "completed"
    },
    "tags": []
   },
   "outputs": [],
   "source": [
    "import matplotlib.pyplot as plt"
   ]
  },
  {
   "cell_type": "markdown",
   "id": "6175d2f4",
   "metadata": {
    "papermill": {
     "duration": 0.007815,
     "end_time": "2023-08-07T12:25:12.787697",
     "exception": false,
     "start_time": "2023-08-07T12:25:12.779882",
     "status": "completed"
    },
    "tags": []
   },
   "source": [
    "Import Data"
   ]
  },
  {
   "cell_type": "code",
   "execution_count": 3,
   "id": "5b9a00a9",
   "metadata": {
    "execution": {
     "iopub.execute_input": "2023-08-07T12:25:12.806616Z",
     "iopub.status.busy": "2023-08-07T12:25:12.805579Z",
     "iopub.status.idle": "2023-08-07T12:25:14.212003Z",
     "shell.execute_reply": "2023-08-07T12:25:14.211011Z"
    },
    "papermill": {
     "duration": 1.418696,
     "end_time": "2023-08-07T12:25:14.214634",
     "exception": false,
     "start_time": "2023-08-07T12:25:12.795938",
     "status": "completed"
    },
    "tags": []
   },
   "outputs": [
    {
     "name": "stderr",
     "output_type": "stream",
     "text": [
      "/opt/conda/lib/python3.10/site-packages/scipy/__init__.py:146: UserWarning: A NumPy version >=1.16.5 and <1.23.0 is required for this version of SciPy (detected version 1.23.5\n",
      "  warnings.warn(f\"A NumPy version >={np_minversion} and <{np_maxversion}\"\n"
     ]
    }
   ],
   "source": [
    "from sklearn.datasets import load_digits"
   ]
  },
  {
   "cell_type": "code",
   "execution_count": 4,
   "id": "1c410562",
   "metadata": {
    "execution": {
     "iopub.execute_input": "2023-08-07T12:25:14.235192Z",
     "iopub.status.busy": "2023-08-07T12:25:14.234037Z",
     "iopub.status.idle": "2023-08-07T12:25:14.259353Z",
     "shell.execute_reply": "2023-08-07T12:25:14.258205Z"
    },
    "papermill": {
     "duration": 0.038266,
     "end_time": "2023-08-07T12:25:14.262726",
     "exception": false,
     "start_time": "2023-08-07T12:25:14.224460",
     "status": "completed"
    },
    "tags": []
   },
   "outputs": [],
   "source": [
    "df = load_digits()"
   ]
  },
  {
   "cell_type": "code",
   "execution_count": 5,
   "id": "c368a0ac",
   "metadata": {
    "execution": {
     "iopub.execute_input": "2023-08-07T12:25:14.281291Z",
     "iopub.status.busy": "2023-08-07T12:25:14.280862Z",
     "iopub.status.idle": "2023-08-07T12:25:14.655576Z",
     "shell.execute_reply": "2023-08-07T12:25:14.654144Z"
    },
    "papermill": {
     "duration": 0.387076,
     "end_time": "2023-08-07T12:25:14.658311",
     "exception": false,
     "start_time": "2023-08-07T12:25:14.271235",
     "status": "completed"
    },
    "tags": []
   },
   "outputs": [
    {
     "data": {
      "image/png": "[encoded data removed]",
      "text/plain": [
       "<Figure size 1000x300 with 4 Axes>"
      ]
     },
     "metadata": {},
     "output_type": "display_data"
    }
   ],
   "source": [
    "_,axes = plt.subplots(nrows=1, ncols=4, figsize=(10,3))\n",
    "for ax,image, label in zip(axes,df.images,df.target):\n",
    "    ax.set_axis_off()\n",
    "    ax.imshow(image, cmap= plt.cm.gray_r, interpolation= \"nearest\")\n",
    "    ax.set_title(\"Training: %i\" % label)"
   ]
  },
  {
   "cell_type": "markdown",
   "id": "945ea873",
   "metadata": {
    "papermill": {
     "duration": 0.008386,
     "end_time": "2023-08-07T12:25:14.675424",
     "exception": false,
     "start_time": "2023-08-07T12:25:14.667038",
     "status": "completed"
    },
    "tags": []
   },
   "source": [
    "****Data Preprocessing****"
   ]
  },
  {
   "cell_type": "markdown",
   "id": "a67dd68d",
   "metadata": {
    "papermill": {
     "duration": 0.00861,
     "end_time": "2023-08-07T12:25:14.692710",
     "exception": false,
     "start_time": "2023-08-07T12:25:14.684100",
     "status": "completed"
    },
    "tags": []
   },
   "source": [
    "****Flatten Image****"
   ]
  },
  {
   "cell_type": "code",
   "execution_count": 6,
   "id": "c485792b",
   "metadata": {
    "execution": {
     "iopub.execute_input": "2023-08-07T12:25:14.712772Z",
     "iopub.status.busy": "2023-08-07T12:25:14.712370Z",
     "iopub.status.idle": "2023-08-07T12:25:14.720269Z",
     "shell.execute_reply": "2023-08-07T12:25:14.718983Z"
    },
    "papermill": {
     "duration": 0.021351,
     "end_time": "2023-08-07T12:25:14.722496",
     "exception": false,
     "start_time": "2023-08-07T12:25:14.701145",
     "status": "completed"
    },
    "tags": []
   },
   "outputs": [
    {
     "data": {
      "text/plain": [
       "(1797, 8, 8)"
      ]
     },
     "execution_count": 6,
     "metadata": {},
     "output_type": "execute_result"
    }
   ],
   "source": [
    "df.images.shape"
   ]
  },
  {
   "cell_type": "code",
   "execution_count": 7,
   "id": "f24925bc",
   "metadata": {
    "execution": {
     "iopub.execute_input": "2023-08-07T12:25:14.742212Z",
     "iopub.status.busy": "2023-08-07T12:25:14.741381Z",
     "iopub.status.idle": "2023-08-07T12:25:14.748807Z",
     "shell.execute_reply": "2023-08-07T12:25:14.747928Z"
    },
    "papermill": {
     "duration": 0.019548,
     "end_time": "2023-08-07T12:25:14.750820",
     "exception": false,
     "start_time": "2023-08-07T12:25:14.731272",
     "status": "completed"
    },
    "tags": []
   },
   "outputs": [
    {
     "data": {
      "text/plain": [
       "array([[ 0.,  0.,  5., 13.,  9.,  1.,  0.,  0.],\n",
       "       [ 0.,  0., 13., 15., 10., 15.,  5.,  0.],\n",
       "       [ 0.,  3., 15.,  2.,  0., 11.,  8.,  0.],\n",
       "       [ 0.,  4., 12.,  0.,  0.,  8.,  8.,  0.],\n",
       "       [ 0.,  5.,  8.,  0.,  0.,  9.,  8.,  0.],\n",
       "       [ 0.,  4., 11.,  0.,  1., 12.,  7.,  0.],\n",
       "       [ 0.,  2., 14.,  5., 10., 12.,  0.,  0.],\n",
       "       [ 0.,  0.,  6., 13., 10.,  0.,  0.,  0.]])"
      ]
     },
     "execution_count": 7,
     "metadata": {},
     "output_type": "execute_result"
    }
   ],
   "source": [
    "df.images[0]"
   ]
  },
  {
   "cell_type": "code",
   "execution_count": 8,
   "id": "e88a023f",
   "metadata": {
    "execution": {
     "iopub.execute_input": "2023-08-07T12:25:14.770665Z",
     "iopub.status.busy": "2023-08-07T12:25:14.770011Z",
     "iopub.status.idle": "2023-08-07T12:25:14.776458Z",
     "shell.execute_reply": "2023-08-07T12:25:14.775336Z"
    },
    "papermill": {
     "duration": 0.019218,
     "end_time": "2023-08-07T12:25:14.778808",
     "exception": false,
     "start_time": "2023-08-07T12:25:14.759590",
     "status": "completed"
    },
    "tags": []
   },
   "outputs": [
    {
     "data": {
      "text/plain": [
       "(8, 8)"
      ]
     },
     "execution_count": 8,
     "metadata": {},
     "output_type": "execute_result"
    }
   ],
   "source": [
    "df.images[0].shape"
   ]
  },
  {
   "cell_type": "code",
   "execution_count": 9,
   "id": "08266da1",
   "metadata": {
    "execution": {
     "iopub.execute_input": "2023-08-07T12:25:14.798777Z",
     "iopub.status.busy": "2023-08-07T12:25:14.798333Z",
     "iopub.status.idle": "2023-08-07T12:25:14.805842Z",
     "shell.execute_reply": "2023-08-07T12:25:14.804736Z"
    },
    "papermill": {
     "duration": 0.020415,
     "end_time": "2023-08-07T12:25:14.808156",
     "exception": false,
     "start_time": "2023-08-07T12:25:14.787741",
     "status": "completed"
    },
    "tags": []
   },
   "outputs": [
    {
     "data": {
      "text/plain": [
       "1797"
      ]
     },
     "execution_count": 9,
     "metadata": {},
     "output_type": "execute_result"
    }
   ],
   "source": [
    "len(df.images)"
   ]
  },
  {
   "cell_type": "code",
   "execution_count": 10,
   "id": "c4f5ae53",
   "metadata": {
    "execution": {
     "iopub.execute_input": "2023-08-07T12:25:14.828765Z",
     "iopub.status.busy": "2023-08-07T12:25:14.828327Z",
     "iopub.status.idle": "2023-08-07T12:25:14.833321Z",
     "shell.execute_reply": "2023-08-07T12:25:14.832255Z"
    },
    "papermill": {
     "duration": 0.018295,
     "end_time": "2023-08-07T12:25:14.835677",
     "exception": false,
     "start_time": "2023-08-07T12:25:14.817382",
     "status": "completed"
    },
    "tags": []
   },
   "outputs": [],
   "source": [
    "n_samples = len(df.images)\n",
    "data = df.images.reshape((n_samples,-1))"
   ]
  },
  {
   "cell_type": "code",
   "execution_count": 11,
   "id": "767da7f7",
   "metadata": {
    "execution": {
     "iopub.execute_input": "2023-08-07T12:25:14.856826Z",
     "iopub.status.busy": "2023-08-07T12:25:14.855709Z",
     "iopub.status.idle": "2023-08-07T12:25:14.863124Z",
     "shell.execute_reply": "2023-08-07T12:25:14.861993Z"
    },
    "papermill": {
     "duration": 0.020387,
     "end_time": "2023-08-07T12:25:14.865500",
     "exception": false,
     "start_time": "2023-08-07T12:25:14.845113",
     "status": "completed"
    },
    "tags": []
   },
   "outputs": [
    {
     "data": {
      "text/plain": [
       "array([ 0.,  0.,  5., 13.,  9.,  1.,  0.,  0.,  0.,  0., 13., 15., 10.,\n",
       "       15.,  5.,  0.,  0.,  3., 15.,  2.,  0., 11.,  8.,  0.,  0.,  4.,\n",
       "       12.,  0.,  0.,  8.,  8.,  0.,  0.,  5.,  8.,  0.,  0.,  9.,  8.,\n",
       "        0.,  0.,  4., 11.,  0.,  1., 12.,  7.,  0.,  0.,  2., 14.,  5.,\n",
       "       10., 12.,  0.,  0.,  0.,  0.,  6., 13., 10.,  0.,  0.,  0.])"
      ]
     },
     "execution_count": 11,
     "metadata": {},
     "output_type": "execute_result"
    }
   ],
   "source": [
    "data[0]"
   ]
  },
  {
   "cell_type": "code",
   "execution_count": 12,
   "id": "168afb22",
   "metadata": {
    "execution": {
     "iopub.execute_input": "2023-08-07T12:25:14.886705Z",
     "iopub.status.busy": "2023-08-07T12:25:14.886248Z",
     "iopub.status.idle": "2023-08-07T12:25:14.893480Z",
     "shell.execute_reply": "2023-08-07T12:25:14.892200Z"
    },
    "papermill": {
     "duration": 0.020549,
     "end_time": "2023-08-07T12:25:14.895609",
     "exception": false,
     "start_time": "2023-08-07T12:25:14.875060",
     "status": "completed"
    },
    "tags": []
   },
   "outputs": [
    {
     "data": {
      "text/plain": [
       "(64,)"
      ]
     },
     "execution_count": 12,
     "metadata": {},
     "output_type": "execute_result"
    }
   ],
   "source": [
    "data[0].shape"
   ]
  },
  {
   "cell_type": "code",
   "execution_count": 13,
   "id": "c5992db1",
   "metadata": {
    "execution": {
     "iopub.execute_input": "2023-08-07T12:25:14.916986Z",
     "iopub.status.busy": "2023-08-07T12:25:14.916148Z",
     "iopub.status.idle": "2023-08-07T12:25:14.923272Z",
     "shell.execute_reply": "2023-08-07T12:25:14.922286Z"
    },
    "papermill": {
     "duration": 0.020243,
     "end_time": "2023-08-07T12:25:14.925425",
     "exception": false,
     "start_time": "2023-08-07T12:25:14.905182",
     "status": "completed"
    },
    "tags": []
   },
   "outputs": [
    {
     "data": {
      "text/plain": [
       "(1797, 64)"
      ]
     },
     "execution_count": 13,
     "metadata": {},
     "output_type": "execute_result"
    }
   ],
   "source": [
    "data.shape"
   ]
  },
  {
   "cell_type": "markdown",
   "id": "5cfda023",
   "metadata": {
    "papermill": {
     "duration": 0.009093,
     "end_time": "2023-08-07T12:25:14.943708",
     "exception": false,
     "start_time": "2023-08-07T12:25:14.934615",
     "status": "completed"
    },
    "tags": []
   },
   "source": [
    "**Scalling Image Data**"
   ]
  },
  {
   "cell_type": "code",
   "execution_count": 14,
   "id": "f6ff9964",
   "metadata": {
    "execution": {
     "iopub.execute_input": "2023-08-07T12:25:14.965231Z",
     "iopub.status.busy": "2023-08-07T12:25:14.964489Z",
     "iopub.status.idle": "2023-08-07T12:25:14.971669Z",
     "shell.execute_reply": "2023-08-07T12:25:14.970426Z"
    },
    "papermill": {
     "duration": 0.020762,
     "end_time": "2023-08-07T12:25:14.973853",
     "exception": false,
     "start_time": "2023-08-07T12:25:14.953091",
     "status": "completed"
    },
    "tags": []
   },
   "outputs": [
    {
     "data": {
      "text/plain": [
       "0.0"
      ]
     },
     "execution_count": 14,
     "metadata": {},
     "output_type": "execute_result"
    }
   ],
   "source": [
    "data.min()"
   ]
  },
  {
   "cell_type": "code",
   "execution_count": 15,
   "id": "5010f220",
   "metadata": {
    "execution": {
     "iopub.execute_input": "2023-08-07T12:25:14.996108Z",
     "iopub.status.busy": "2023-08-07T12:25:14.995358Z",
     "iopub.status.idle": "2023-08-07T12:25:15.003138Z",
     "shell.execute_reply": "2023-08-07T12:25:15.001741Z"
    },
    "papermill": {
     "duration": 0.022066,
     "end_time": "2023-08-07T12:25:15.005743",
     "exception": false,
     "start_time": "2023-08-07T12:25:14.983677",
     "status": "completed"
    },
    "tags": []
   },
   "outputs": [
    {
     "data": {
      "text/plain": [
       "16.0"
      ]
     },
     "execution_count": 15,
     "metadata": {},
     "output_type": "execute_result"
    }
   ],
   "source": [
    "data.max()"
   ]
  },
  {
   "cell_type": "code",
   "execution_count": 16,
   "id": "df75750f",
   "metadata": {
    "execution": {
     "iopub.execute_input": "2023-08-07T12:25:15.028198Z",
     "iopub.status.busy": "2023-08-07T12:25:15.027198Z",
     "iopub.status.idle": "2023-08-07T12:25:15.033271Z",
     "shell.execute_reply": "2023-08-07T12:25:15.032007Z"
    },
    "papermill": {
     "duration": 0.020564,
     "end_time": "2023-08-07T12:25:15.036068",
     "exception": false,
     "start_time": "2023-08-07T12:25:15.015504",
     "status": "completed"
    },
    "tags": []
   },
   "outputs": [],
   "source": [
    "data = data/16"
   ]
  },
  {
   "cell_type": "code",
   "execution_count": 17,
   "id": "eacf9bff",
   "metadata": {
    "execution": {
     "iopub.execute_input": "2023-08-07T12:25:15.057959Z",
     "iopub.status.busy": "2023-08-07T12:25:15.057522Z",
     "iopub.status.idle": "2023-08-07T12:25:15.064280Z",
     "shell.execute_reply": "2023-08-07T12:25:15.063446Z"
    },
    "papermill": {
     "duration": 0.020383,
     "end_time": "2023-08-07T12:25:15.066362",
     "exception": false,
     "start_time": "2023-08-07T12:25:15.045979",
     "status": "completed"
    },
    "tags": []
   },
   "outputs": [
    {
     "data": {
      "text/plain": [
       "0.0"
      ]
     },
     "execution_count": 17,
     "metadata": {},
     "output_type": "execute_result"
    }
   ],
   "source": [
    "data.min()"
   ]
  },
  {
   "cell_type": "code",
   "execution_count": 18,
   "id": "3d31507a",
   "metadata": {
    "execution": {
     "iopub.execute_input": "2023-08-07T12:25:15.088571Z",
     "iopub.status.busy": "2023-08-07T12:25:15.087389Z",
     "iopub.status.idle": "2023-08-07T12:25:15.094865Z",
     "shell.execute_reply": "2023-08-07T12:25:15.093628Z"
    },
    "papermill": {
     "duration": 0.021107,
     "end_time": "2023-08-07T12:25:15.097245",
     "exception": false,
     "start_time": "2023-08-07T12:25:15.076138",
     "status": "completed"
    },
    "tags": []
   },
   "outputs": [
    {
     "data": {
      "text/plain": [
       "1.0"
      ]
     },
     "execution_count": 18,
     "metadata": {},
     "output_type": "execute_result"
    }
   ],
   "source": [
    "data.max()"
   ]
  },
  {
   "cell_type": "code",
   "execution_count": 19,
   "id": "b588bbe5",
   "metadata": {
    "execution": {
     "iopub.execute_input": "2023-08-07T12:25:15.122280Z",
     "iopub.status.busy": "2023-08-07T12:25:15.121792Z",
     "iopub.status.idle": "2023-08-07T12:25:15.129881Z",
     "shell.execute_reply": "2023-08-07T12:25:15.128525Z"
    },
    "papermill": {
     "duration": 0.0248,
     "end_time": "2023-08-07T12:25:15.132237",
     "exception": false,
     "start_time": "2023-08-07T12:25:15.107437",
     "status": "completed"
    },
    "tags": []
   },
   "outputs": [
    {
     "data": {
      "text/plain": [
       "array([0.    , 0.    , 0.3125, 0.8125, 0.5625, 0.0625, 0.    , 0.    ,\n",
       "       0.    , 0.    , 0.8125, 0.9375, 0.625 , 0.9375, 0.3125, 0.    ,\n",
       "       0.    , 0.1875, 0.9375, 0.125 , 0.    , 0.6875, 0.5   , 0.    ,\n",
       "       0.    , 0.25  , 0.75  , 0.    , 0.    , 0.5   , 0.5   , 0.    ,\n",
       "       0.    , 0.3125, 0.5   , 0.    , 0.    , 0.5625, 0.5   , 0.    ,\n",
       "       0.    , 0.25  , 0.6875, 0.    , 0.0625, 0.75  , 0.4375, 0.    ,\n",
       "       0.    , 0.125 , 0.875 , 0.3125, 0.625 , 0.75  , 0.    , 0.    ,\n",
       "       0.    , 0.    , 0.375 , 0.8125, 0.625 , 0.    , 0.    , 0.    ])"
      ]
     },
     "execution_count": 19,
     "metadata": {},
     "output_type": "execute_result"
    }
   ],
   "source": [
    "data[0]"
   ]
  },
  {
   "cell_type": "markdown",
   "id": "3fe58f37",
   "metadata": {
    "papermill": {
     "duration": 0.010574,
     "end_time": "2023-08-07T12:25:15.152822",
     "exception": false,
     "start_time": "2023-08-07T12:25:15.142248",
     "status": "completed"
    },
    "tags": []
   },
   "source": [
    "**Train Test Split Data**"
   ]
  },
  {
   "cell_type": "code",
   "execution_count": 20,
   "id": "c95bcd44",
   "metadata": {
    "execution": {
     "iopub.execute_input": "2023-08-07T12:25:15.176959Z",
     "iopub.status.busy": "2023-08-07T12:25:15.176056Z",
     "iopub.status.idle": "2023-08-07T12:25:15.300320Z",
     "shell.execute_reply": "2023-08-07T12:25:15.298953Z"
    },
    "papermill": {
     "duration": 0.139111,
     "end_time": "2023-08-07T12:25:15.303247",
     "exception": false,
     "start_time": "2023-08-07T12:25:15.164136",
     "status": "completed"
    },
    "tags": []
   },
   "outputs": [],
   "source": [
    "from sklearn.model_selection import train_test_split"
   ]
  },
  {
   "cell_type": "code",
   "execution_count": 21,
   "id": "791d3402",
   "metadata": {
    "execution": {
     "iopub.execute_input": "2023-08-07T12:25:15.325179Z",
     "iopub.status.busy": "2023-08-07T12:25:15.324694Z",
     "iopub.status.idle": "2023-08-07T12:25:15.331853Z",
     "shell.execute_reply": "2023-08-07T12:25:15.330994Z"
    },
    "papermill": {
     "duration": 0.02089,
     "end_time": "2023-08-07T12:25:15.334005",
     "exception": false,
     "start_time": "2023-08-07T12:25:15.313115",
     "status": "completed"
    },
    "tags": []
   },
   "outputs": [],
   "source": [
    "X_train, X_test, y_train, y_test = train_test_split(data,df.target, test_size=0.3)"
   ]
  },
  {
   "cell_type": "code",
   "execution_count": 22,
   "id": "a744784d",
   "metadata": {
    "execution": {
     "iopub.execute_input": "2023-08-07T12:25:15.355765Z",
     "iopub.status.busy": "2023-08-07T12:25:15.355103Z",
     "iopub.status.idle": "2023-08-07T12:25:15.363510Z",
     "shell.execute_reply": "2023-08-07T12:25:15.361981Z"
    },
    "papermill": {
     "duration": 0.021907,
     "end_time": "2023-08-07T12:25:15.365739",
     "exception": false,
     "start_time": "2023-08-07T12:25:15.343832",
     "status": "completed"
    },
    "tags": []
   },
   "outputs": [
    {
     "data": {
      "text/plain": [
       "((1257, 64), (540, 64), (1257,), (540,))"
      ]
     },
     "execution_count": 22,
     "metadata": {},
     "output_type": "execute_result"
    }
   ],
   "source": [
    "X_train.shape, X_test.shape, y_train.shape, y_test.shape"
   ]
  },
  {
   "cell_type": "markdown",
   "id": "577c074a",
   "metadata": {
    "papermill": {
     "duration": 0.010423,
     "end_time": "2023-08-07T12:25:15.386307",
     "exception": false,
     "start_time": "2023-08-07T12:25:15.375884",
     "status": "completed"
    },
    "tags": []
   },
   "source": [
    "**Random Forest Model**"
   ]
  },
  {
   "cell_type": "code",
   "execution_count": 23,
   "id": "ef690c6b",
   "metadata": {
    "execution": {
     "iopub.execute_input": "2023-08-07T12:25:15.408890Z",
     "iopub.status.busy": "2023-08-07T12:25:15.407443Z",
     "iopub.status.idle": "2023-08-07T12:25:15.839242Z",
     "shell.execute_reply": "2023-08-07T12:25:15.837846Z"
    },
    "papermill": {
     "duration": 0.445797,
     "end_time": "2023-08-07T12:25:15.842016",
     "exception": false,
     "start_time": "2023-08-07T12:25:15.396219",
     "status": "completed"
    },
    "tags": []
   },
   "outputs": [],
   "source": [
    "from sklearn.ensemble import RandomForestClassifier"
   ]
  },
  {
   "cell_type": "code",
   "execution_count": 24,
   "id": "8e41eba3",
   "metadata": {
    "execution": {
     "iopub.execute_input": "2023-08-07T12:25:15.865192Z",
     "iopub.status.busy": "2023-08-07T12:25:15.863774Z",
     "iopub.status.idle": "2023-08-07T12:25:15.869361Z",
     "shell.execute_reply": "2023-08-07T12:25:15.868185Z"
    },
    "papermill": {
     "duration": 0.019616,
     "end_time": "2023-08-07T12:25:15.871882",
     "exception": false,
     "start_time": "2023-08-07T12:25:15.852266",
     "status": "completed"
    },
    "tags": []
   },
   "outputs": [],
   "source": [
    "rf = RandomForestClassifier()\n"
   ]
  },
  {
   "cell_type": "code",
   "execution_count": 25,
   "id": "b48701e6",
   "metadata": {
    "execution": {
     "iopub.execute_input": "2023-08-07T12:25:15.893827Z",
     "iopub.status.busy": "2023-08-07T12:25:15.893391Z",
     "iopub.status.idle": "2023-08-07T12:25:16.319279Z",
     "shell.execute_reply": "2023-08-07T12:25:16.317758Z"
    },
    "papermill": {
     "duration": 0.440235,
     "end_time": "2023-08-07T12:25:16.322059",
     "exception": false,
     "start_time": "2023-08-07T12:25:15.881824",
     "status": "completed"
    },
    "tags": []
   },
   "outputs": [
    {
     "data": {
      "text/html": [
       "<style>#sk-container-id-1 {color: black;background-color: white;}#sk-container-id-1 pre{padding: 0;}#sk-container-id-1 div.sk-toggleable {background-color: white;}#sk-container-id-1 label.sk-toggleable__label {cursor: pointer;display: block;width: 100%;margin-bottom: 0;padding: 0.3em;box-sizing: border-box;text-align: center;}#sk-container-id-1 label.sk-toggleable__label-arrow:before {content: \"▸\";float: left;margin-right: 0.25em;color: #696969;}#sk-container-id-1 label.sk-toggleable__label-arrow:hover:before {color: black;}#sk-container-id-1 div.sk-estimator:hover label.sk-toggleable__label-arrow:before {color: black;}#sk-container-id-1 div.sk-toggleable__content {max-height: 0;max-width: 0;overflow: hidden;text-align: left;background-color: #f0f8ff;}#sk-container-id-1 div.sk-toggleable__content pre {margin: 0.2em;color: black;border-radius: 0.25em;background-color: #f0f8ff;}#sk-container-id-1 input.sk-toggleable__control:checked~div.sk-toggleable__content {max-height: 200px;max-width: 100%;overflow: auto;}#sk-container-id-1 input.sk-toggleable__control:checked~label.sk-toggleable__label-arrow:before {content: \"▾\";}#sk-container-id-1 div.sk-estimator input.sk-toggleable__control:checked~label.sk-toggleable__label {background-color: #d4ebff;}#sk-container-id-1 div.sk-label input.sk-toggleable__control:checked~label.sk-toggleable__label {background-color: #d4ebff;}#sk-container-id-1 input.sk-hidden--visually {border: 0;clip: rect(1px 1px 1px 1px);clip: rect(1px, 1px, 1px, 1px);height: 1px;margin: -1px;overflow: hidden;padding: 0;position: absolute;width: 1px;}#sk-container-id-1 div.sk-estimator {font-family: monospace;background-color: #f0f8ff;border: 1px dotted black;border-radius: 0.25em;box-sizing: border-box;margin-bottom: 0.5em;}#sk-container-id-1 div.sk-estimator:hover {background-color: #d4ebff;}#sk-container-id-1 div.sk-parallel-item::after {content: \"\";width: 100%;border-bottom: 1px solid gray;flex-grow: 1;}#sk-container-id-1 div.sk-label:hover label.sk-toggleable__label {background-color: #d4ebff;}#sk-container-id-1 div.sk-serial::before {content: \"\";position: absolute;border-left: 1px solid gray;box-sizing: border-box;top: 0;bottom: 0;left: 50%;z-index: 0;}#sk-container-id-1 div.sk-serial {display: flex;flex-direction: column;align-items: center;background-color: white;padding-right: 0.2em;padding-left: 0.2em;position: relative;}#sk-container-id-1 div.sk-item {position: relative;z-index: 1;}#sk-container-id-1 div.sk-parallel {display: flex;align-items: stretch;justify-content: center;background-color: white;position: relative;}#sk-container-id-1 div.sk-item::before, #sk-container-id-1 div.sk-parallel-item::before {content: \"\";position: absolute;border-left: 1px solid gray;box-sizing: border-box;top: 0;bottom: 0;left: 50%;z-index: -1;}#sk-container-id-1 div.sk-parallel-item {display: flex;flex-direction: column;z-index: 1;position: relative;background-color: white;}#sk-container-id-1 div.sk-parallel-item:first-child::after {align-self: flex-end;width: 50%;}#sk-container-id-1 div.sk-parallel-item:last-child::after {align-self: flex-start;width: 50%;}#sk-container-id-1 div.sk-parallel-item:only-child::after {width: 0;}#sk-container-id-1 div.sk-dashed-wrapped {border: 1px dashed gray;margin: 0 0.4em 0.5em 0.4em;box-sizing: border-box;padding-bottom: 0.4em;background-color: white;}#sk-container-id-1 div.sk-label label {font-family: monospace;font-weight: bold;display: inline-block;line-height: 1.2em;}#sk-container-id-1 div.sk-label-container {text-align: center;}#sk-container-id-1 div.sk-container {/* jupyter's `normalize.less` sets `[hidden] { display: none; }` but bootstrap.min.css set `[hidden] { display: none !important; }` so we also need the `!important` here to be able to override the default hidden behavior on the sphinx rendered scikit-learn.org. See: https://github.com/scikit-learn/scikit-learn/issues/21755 */display: inline-block !important;position: relative;}#sk-container-id-1 div.sk-text-repr-fallback {display: none;}</style><div id=\"sk-container-id-1\" class=\"sk-top-container\"><div class=\"sk-text-repr-fallback\"><pre>RandomForestClassifier()</pre><b>In a Jupyter environment, please rerun this cell to show the HTML representation or trust the notebook. <br />On GitHub, the HTML representation is unable to render, please try loading this page with nbviewer.org.</b></div><div class=\"sk-container\" hidden><div class=\"sk-item\"><div class=\"sk-estimator sk-toggleable\"><input class=\"sk-toggleable__control sk-hidden--visually\" id=\"sk-estimator-id-1\" type=\"checkbox\" checked><label for=\"sk-estimator-id-1\" class=\"sk-toggleable__label sk-toggleable__label-arrow\">RandomForestClassifier</label><div class=\"sk-toggleable__content\"><pre>RandomForestClassifier()</pre></div></div></div></div></div>"
      ],
      "text/plain": [
       "RandomForestClassifier()"
      ]
     },
     "execution_count": 25,
     "metadata": {},
     "output_type": "execute_result"
    }
   ],
   "source": [
    "rf.fit(X_train, y_train)"
   ]
  },
  {
   "cell_type": "markdown",
   "id": "af4bcf38",
   "metadata": {
    "papermill": {
     "duration": 0.010727,
     "end_time": "2023-08-07T12:25:16.344011",
     "exception": false,
     "start_time": "2023-08-07T12:25:16.333284",
     "status": "completed"
    },
    "tags": []
   },
   "source": [
    "**Predict Test Data**"
   ]
  },
  {
   "cell_type": "code",
   "execution_count": 26,
   "id": "43651cf9",
   "metadata": {
    "execution": {
     "iopub.execute_input": "2023-08-07T12:25:16.368029Z",
     "iopub.status.busy": "2023-08-07T12:25:16.367579Z",
     "iopub.status.idle": "2023-08-07T12:25:16.395547Z",
     "shell.execute_reply": "2023-08-07T12:25:16.394651Z"
    },
    "papermill": {
     "duration": 0.043,
     "end_time": "2023-08-07T12:25:16.398113",
     "exception": false,
     "start_time": "2023-08-07T12:25:16.355113",
     "status": "completed"
    },
    "tags": []
   },
   "outputs": [],
   "source": [
    "y_pred= rf.predict(X_test)"
   ]
  },
  {
   "cell_type": "code",
   "execution_count": 27,
   "id": "17b7d8ca",
   "metadata": {
    "execution": {
     "iopub.execute_input": "2023-08-07T12:25:16.422195Z",
     "iopub.status.busy": "2023-08-07T12:25:16.421746Z",
     "iopub.status.idle": "2023-08-07T12:25:16.430789Z",
     "shell.execute_reply": "2023-08-07T12:25:16.429574Z"
    },
    "papermill": {
     "duration": 0.024044,
     "end_time": "2023-08-07T12:25:16.433468",
     "exception": false,
     "start_time": "2023-08-07T12:25:16.409424",
     "status": "completed"
    },
    "tags": []
   },
   "outputs": [
    {
     "data": {
      "text/plain": [
       "array([2, 7, 3, 8, 4, 4, 8, 6, 3, 3, 2, 6, 2, 8, 5, 7, 5, 4, 9, 3, 2, 4,\n",
       "       5, 3, 8, 9, 4, 9, 0, 2, 3, 3, 2, 3, 9, 5, 0, 6, 8, 6, 4, 3, 7, 1,\n",
       "       9, 6, 9, 4, 9, 3, 1, 4, 1, 3, 5, 6, 7, 2, 2, 4, 1, 8, 3, 5, 8, 2,\n",
       "       9, 9, 3, 6, 2, 8, 4, 4, 5, 2, 6, 1, 0, 9, 6, 8, 5, 2, 1, 0, 7, 5,\n",
       "       1, 5, 9, 4, 9, 9, 1, 9, 0, 3, 2, 4, 2, 6, 9, 4, 6, 9, 5, 0, 7, 4,\n",
       "       9, 4, 7, 4, 6, 1, 8, 0, 3, 8, 9, 9, 9, 6, 1, 9, 9, 8, 4, 0, 5, 7,\n",
       "       0, 0, 6, 7, 2, 1, 5, 9, 3, 3, 9, 6, 6, 2, 7, 4, 3, 3, 5, 6, 6, 5,\n",
       "       9, 3, 8, 1, 2, 7, 9, 0, 3, 2, 4, 4, 1, 1, 2, 1, 5, 0, 6, 0, 8, 7,\n",
       "       8, 5, 6, 6, 8, 0, 2, 5, 2, 1, 5, 0, 3, 3, 9, 8, 5, 5, 6, 5, 3, 7,\n",
       "       3, 4, 2, 6, 0, 6, 2, 8, 3, 3, 4, 2, 0, 7, 4, 1, 8, 3, 6, 6, 1, 4,\n",
       "       9, 6, 2, 2, 2, 9, 6, 1, 3, 1, 7, 7, 4, 2, 2, 7, 0, 8, 3, 3, 6, 1,\n",
       "       5, 2, 7, 8, 1, 2, 6, 5, 2, 6, 7, 7, 1, 3, 4, 1, 1, 2, 2, 9, 7, 5,\n",
       "       7, 1, 8, 9, 7, 6, 5, 8, 4, 5, 9, 8, 4, 1, 4, 9, 3, 9, 5, 3, 5, 0,\n",
       "       6, 0, 4, 5, 6, 4, 7, 5, 2, 2, 9, 1, 7, 6, 2, 1, 4, 1, 8, 6, 2, 8,\n",
       "       3, 3, 5, 4, 5, 9, 1, 4, 4, 9, 4, 0, 8, 0, 4, 3, 8, 1, 0, 8, 2, 1,\n",
       "       0, 1, 4, 1, 6, 1, 8, 0, 0, 6, 4, 8, 5, 7, 2, 0, 7, 5, 1, 0, 0, 5,\n",
       "       0, 6, 9, 7, 8, 9, 9, 7, 3, 5, 6, 9, 5, 7, 4, 4, 3, 4, 0, 9, 5, 5,\n",
       "       6, 4, 5, 2, 6, 0, 6, 9, 5, 3, 8, 7, 6, 1, 3, 6, 4, 9, 5, 1, 8, 3,\n",
       "       5, 9, 3, 8, 9, 2, 0, 8, 7, 1, 8, 7, 7, 5, 6, 3, 7, 1, 9, 9, 8, 7,\n",
       "       6, 9, 0, 7, 6, 9, 0, 0, 4, 6, 6, 4, 8, 1, 8, 1, 2, 1, 1, 6, 0, 5,\n",
       "       3, 2, 6, 7, 2, 6, 9, 2, 1, 4, 6, 4, 8, 7, 2, 0, 6, 6, 9, 6, 5, 0,\n",
       "       0, 6, 3, 5, 3, 5, 6, 0, 2, 0, 2, 8, 1, 7, 6, 9, 8, 5, 4, 3, 2, 5,\n",
       "       6, 7, 6, 4, 1, 1, 3, 3, 9, 1, 9, 4, 3, 2, 3, 9, 5, 5, 9, 7, 2, 7,\n",
       "       0, 1, 8, 4, 1, 8, 9, 4, 3, 7, 1, 3, 6, 9, 7, 7, 0, 9, 2, 8, 5, 7,\n",
       "       4, 7, 2, 8, 6, 8, 0, 8, 0, 8, 7, 5])"
      ]
     },
     "execution_count": 27,
     "metadata": {},
     "output_type": "execute_result"
    }
   ],
   "source": [
    "y_pred"
   ]
  },
  {
   "cell_type": "markdown",
   "id": "c661fed5",
   "metadata": {
    "papermill": {
     "duration": 0.010265,
     "end_time": "2023-08-07T12:25:16.455079",
     "exception": false,
     "start_time": "2023-08-07T12:25:16.444814",
     "status": "completed"
    },
    "tags": []
   },
   "source": [
    "**Model Accuracy**"
   ]
  },
  {
   "cell_type": "code",
   "execution_count": 28,
   "id": "e00b5dac",
   "metadata": {
    "execution": {
     "iopub.execute_input": "2023-08-07T12:25:16.478962Z",
     "iopub.status.busy": "2023-08-07T12:25:16.478254Z",
     "iopub.status.idle": "2023-08-07T12:25:16.483360Z",
     "shell.execute_reply": "2023-08-07T12:25:16.482563Z"
    },
    "papermill": {
     "duration": 0.019948,
     "end_time": "2023-08-07T12:25:16.485509",
     "exception": false,
     "start_time": "2023-08-07T12:25:16.465561",
     "status": "completed"
    },
    "tags": []
   },
   "outputs": [],
   "source": [
    "from sklearn.metrics import confusion_matrix, classification_report"
   ]
  },
  {
   "cell_type": "code",
   "execution_count": 29,
   "id": "53fa2ec6",
   "metadata": {
    "execution": {
     "iopub.execute_input": "2023-08-07T12:25:16.510187Z",
     "iopub.status.busy": "2023-08-07T12:25:16.509716Z",
     "iopub.status.idle": "2023-08-07T12:25:16.521537Z",
     "shell.execute_reply": "2023-08-07T12:25:16.519961Z"
    },
    "papermill": {
     "duration": 0.026938,
     "end_time": "2023-08-07T12:25:16.524018",
     "exception": false,
     "start_time": "2023-08-07T12:25:16.497080",
     "status": "completed"
    },
    "tags": []
   },
   "outputs": [
    {
     "data": {
      "text/plain": [
       "array([[45,  0,  0,  0,  1,  0,  0,  0,  0,  0],\n",
       "       [ 0, 52,  0,  0,  0,  0,  0,  0,  0,  0],\n",
       "       [ 0,  0, 54,  0,  0,  0,  0,  0,  0,  0],\n",
       "       [ 0,  0,  0, 54,  0,  0,  0,  0,  1,  1],\n",
       "       [ 0,  0,  0,  0, 52,  0,  0,  1,  1,  0],\n",
       "       [ 0,  0,  0,  0,  1, 54,  0,  0,  0,  3],\n",
       "       [ 1,  0,  0,  0,  1,  0, 64,  0,  0,  0],\n",
       "       [ 0,  0,  0,  0,  0,  0,  0, 47,  0,  0],\n",
       "       [ 0,  1,  0,  0,  0,  0,  0,  1, 48,  0],\n",
       "       [ 0,  0,  0,  0,  0,  1,  0,  0,  0, 56]])"
      ]
     },
     "execution_count": 29,
     "metadata": {},
     "output_type": "execute_result"
    }
   ],
   "source": [
    "confusion_matrix(y_test, y_pred)"
   ]
  },
  {
   "cell_type": "code",
   "execution_count": 30,
   "id": "21607503",
   "metadata": {
    "execution": {
     "iopub.execute_input": "2023-08-07T12:25:16.549923Z",
     "iopub.status.busy": "2023-08-07T12:25:16.549214Z",
     "iopub.status.idle": "2023-08-07T12:25:16.562852Z",
     "shell.execute_reply": "2023-08-07T12:25:16.561672Z"
    },
    "papermill": {
     "duration": 0.028925,
     "end_time": "2023-08-07T12:25:16.565708",
     "exception": false,
     "start_time": "2023-08-07T12:25:16.536783",
     "status": "completed"
    },
    "tags": []
   },
   "outputs": [
    {
     "name": "stdout",
     "output_type": "stream",
     "text": [
      "              precision    recall  f1-score   support\n",
      "\n",
      "           0       0.98      0.98      0.98        46\n",
      "           1       0.98      1.00      0.99        52\n",
      "           2       1.00      1.00      1.00        54\n",
      "           3       1.00      0.96      0.98        56\n",
      "           4       0.95      0.96      0.95        54\n",
      "           5       0.98      0.93      0.96        58\n",
      "           6       1.00      0.97      0.98        66\n",
      "           7       0.96      1.00      0.98        47\n",
      "           8       0.96      0.96      0.96        50\n",
      "           9       0.93      0.98      0.96        57\n",
      "\n",
      "    accuracy                           0.97       540\n",
      "   macro avg       0.97      0.97      0.97       540\n",
      "weighted avg       0.97      0.97      0.97       540\n",
      "\n"
     ]
    }
   ],
   "source": [
    "print(classification_report(y_test, y_pred))"
   ]
  },
  {
   "cell_type": "code",
   "execution_count": null,
   "id": "03db701b",
   "metadata": {
    "papermill": {
     "duration": 0.011806,
     "end_time": "2023-08-07T12:25:16.588629",
     "exception": false,
     "start_time": "2023-08-07T12:25:16.576823",
     "status": "completed"
    },
    "tags": []
   },
   "outputs": [],
   "source": []
  },
  {
   "cell_type": "code",
   "execution_count": null,
   "id": "495b0ba2",
   "metadata": {
    "papermill": {
     "duration": 0.011018,
     "end_time": "2023-08-07T12:25:16.611024",
     "exception": false,
     "start_time": "2023-08-07T12:25:16.600006",
     "status": "completed"
    },
    "tags": []
   },
   "outputs": [],
   "source": []
  }
 ],
 "metadata": {
  "kernelspec": {
   "display_name": "Python 3",
   "language": "python",
   "name": "python3"
  },
  "language_info": {
   "codemirror_mode": {
    "name": "ipython",
    "version": 3
   },
   "file_extension": ".py",
   "mimetype": "text/x-python",
   "name": "python",
   "nbconvert_exporter": "python",
   "pygments_lexer": "ipython3",
   "version": "3.10.12"
  },
  "papermill": {
   "default_parameters": {},
   "duration": 15.365535,
   "end_time": "2023-08-07T12:25:17.746829",
   "environment_variables": {},
   "exception": null,
   "input_path": "__notebook__.ipynb",
   "output_path": "__notebook__.ipynb",
   "parameters": {},
   "start_time": "2023-08-07T12:25:02.381294",
   "version": "2.4.0"
  }
 },
 "nbformat": 4,
 "nbformat_minor": 5
}
